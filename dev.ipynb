{
 "cells": [
  {
   "cell_type": "code",
   "execution_count": null,
   "id": "16bb01a1",
   "metadata": {},
   "outputs": [],
   "source": [
    "from functools import wraps\n",
    "from inspect import signature\n",
    "from pydantic import BaseModel, fields\n",
    "\n",
    "def custom_decorator(func):\n",
    "    sig = signature(func)\n",
    "    \n",
    "    @wraps(func)\n",
    "    def wrapper( *args, **kwargs):\n",
    "        # 用函式參數名稱決定要傳入哪些 query 參數\n",
    "        print(\"Query parameters kwargs:\")\n",
    "        for name, value in kwargs.items():\n",
    "            print(f\"  {name}: {value}\")\n",
    "            if isinstance(value, BaseModel):\n",
    "                print(f\"  {name} is a Pydantic model\")\n",
    "        print(\"Query parameters args:\")\n",
    "        for name, value in zip(sig.parameters.keys(), args):\n",
    "            print(f\"  {name}: {value}\")\n",
    "            if isinstance(value, BaseModel):\n",
    "                print(f\"  {name} is a Pydantic model\")\n",
    "\n",
    "        for name, param in sig.parameters.items():\n",
    "            print(f\"Processing parameter: {name} with type {param.annotation}\")\n",
    "\n",
    "        # 呼叫原始的路由函式，傳入抓到的參數\n",
    "        return func(*args, **kwargs)\n",
    "    return wrapper"
   ]
  },
  {
   "cell_type": "code",
   "execution_count": null,
   "id": "016d881c",
   "metadata": {},
   "outputs": [],
   "source": [
    "class MyData:\n",
    "    def __init__(self, param1: str, param2: int):\n",
    "        self.param1 = param1\n",
    "        self.param2 = param2"
   ]
  },
  {
   "cell_type": "code",
   "execution_count": null,
   "id": "1a7b9d53",
   "metadata": {},
   "outputs": [],
   "source": [
    "class MyData2(BaseModel):\n",
    "    param1: str\n",
    "    param2: int"
   ]
  },
  {
   "cell_type": "code",
   "execution_count": null,
   "id": "e8c1f835",
   "metadata": {},
   "outputs": [],
   "source": [
    "@custom_decorator\n",
    "def my_route_function(data: MyData):\n",
    "    # 這裡是路由函式的實作\n",
    "    return {\"param1\": data.param1, \"param2\": data.param2}"
   ]
  },
  {
   "cell_type": "code",
   "execution_count": null,
   "id": "98e0b3da",
   "metadata": {},
   "outputs": [],
   "source": [
    "my_route_function(MyData(\"test\", 123))"
   ]
  },
  {
   "cell_type": "code",
   "execution_count": null,
   "id": "e52bc1dd",
   "metadata": {},
   "outputs": [],
   "source": [
    "@custom_decorator\n",
    "def my_route_function2(data: MyData2):\n",
    "    # 這裡是路由函式的實作\n",
    "    return {\"param1\": data.param1, \"param2\": data.param2}"
   ]
  },
  {
   "cell_type": "code",
   "execution_count": null,
   "id": "9949a197",
   "metadata": {},
   "outputs": [],
   "source": [
    "my_route_function2(MyData2(param1=\"test\", param2=123))"
   ]
  },
  {
   "cell_type": "markdown",
   "id": "1c740903",
   "metadata": {},
   "source": [
    "# Task with Pydantic Test"
   ]
  },
  {
   "cell_type": "code",
   "execution_count": 2,
   "id": "d1187310",
   "metadata": {},
   "outputs": [],
   "source": [
    "from skald.model.task import Task\n",
    "from datetime import datetime\n",
    "from typing import Optional\n",
    "from pydantic import BaseModel, Field"
   ]
  },
  {
   "cell_type": "code",
   "execution_count": 3,
   "id": "a2bf2c74",
   "metadata": {},
   "outputs": [],
   "source": [
    "class MyModel(BaseModel):\n",
    "    id: str\n",
    "    name: str\n",
    "    description: Optional[str] = None\n",
    "    status: int = 0\n",
    "    created_at: datetime = Field(default_factory=datetime.utcnow)\n",
    "    updated_at: datetime = Field(default_factory=datetime.utcnow)\n"
   ]
  },
  {
   "cell_type": "code",
   "execution_count": null,
   "id": "ebe2a23a",
   "metadata": {},
   "outputs": [],
   "source": [
    "my_model = MyModel(\n",
    "    id=\"1\",\n",
    "    name=\"Sample Model\",\n",
    "    description=\"This is a sample model\",\n",
    "    status=0,\n",
    "    created_at=datetime.utcnow(),\n",
    "    updated_at=datetime.utcnow()\n",
    ")\n",
    "\n",
    "\n",
    "my_task = Task(\n",
    "    id=\"1\",\n",
    "    class_name=\"Sample Task\",\n",
    "    source=\"User\",\n",
    "    name=\"Sample Task\",\n",
    "    description=\"This is a sample task\",\n",
    "    executor=\"user@example.com\",\n",
    "    create_date_time=datetime.utcnow(),\n",
    "    update_date_time=datetime.utcnow(),\n",
    "    priority=5,\n",
    "    attachments=my_model\n",
    ")"
   ]
  },
  {
   "cell_type": "code",
   "execution_count": null,
   "id": "460c7aea",
   "metadata": {},
   "outputs": [],
   "source": [
    "print(my_task.model_dump())"
   ]
  },
  {
   "cell_type": "code",
   "execution_count": 7,
   "id": "a348611c",
   "metadata": {},
   "outputs": [],
   "source": [
    "my_model1 = MyModel.model_validate({\n",
    "    \"_id\": \"13123\",\n",
    "    \"id\": \"2\",\n",
    "    \"name\": \"My Model 1\",\n",
    "    \"description\": \"This is my first model\",\n",
    "    \"created_at\": datetime.utcnow(),\n",
    "    \"updated_at\": datetime.utcnow()\n",
    "})"
   ]
  },
  {
   "cell_type": "code",
   "execution_count": 6,
   "id": "1f331616",
   "metadata": {},
   "outputs": [
    {
     "data": {
      "text/plain": [
       "MyModel(id='2', name='My Model 1', description='This is my first model', status=0, created_at=datetime.datetime(2025, 8, 11, 12, 32, 33, 866639), updated_at=datetime.datetime(2025, 8, 11, 12, 32, 33, 866640))"
      ]
     },
     "execution_count": 6,
     "metadata": {},
     "output_type": "execute_result"
    }
   ],
   "source": [
    "my_model1"
   ]
  },
  {
   "cell_type": "code",
   "execution_count": null,
   "id": "1c51188b",
   "metadata": {},
   "outputs": [],
   "source": []
  }
 ],
 "metadata": {
  "kernelspec": {
   "display_name": "Python 3",
   "language": "python",
   "name": "python3"
  },
  "language_info": {
   "codemirror_mode": {
    "name": "ipython",
    "version": 3
   },
   "file_extension": ".py",
   "mimetype": "text/x-python",
   "name": "python",
   "nbconvert_exporter": "python",
   "pygments_lexer": "ipython3",
   "version": "3.11.13"
  }
 },
 "nbformat": 4,
 "nbformat_minor": 5
}
