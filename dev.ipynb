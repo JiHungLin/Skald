{
 "cells": [
  {
   "cell_type": "code",
   "execution_count": null,
   "id": "16bb01a1",
   "metadata": {},
   "outputs": [],
   "source": [
    "from functools import wraps\n",
    "from inspect import signature\n",
    "from pydantic import BaseModel, fields\n",
    "\n",
    "def custom_decorator(func):\n",
    "    sig = signature(func)\n",
    "    \n",
    "    @wraps(func)\n",
    "    def wrapper( *args, **kwargs):\n",
    "        # 用函式參數名稱決定要傳入哪些 query 參數\n",
    "        print(\"Query parameters kwargs:\")\n",
    "        for name, value in kwargs.items():\n",
    "            print(f\"  {name}: {value}\")\n",
    "            if isinstance(value, BaseModel):\n",
    "                print(f\"  {name} is a Pydantic model\")\n",
    "        print(\"Query parameters args:\")\n",
    "        for name, value in zip(sig.parameters.keys(), args):\n",
    "            print(f\"  {name}: {value}\")\n",
    "            if isinstance(value, BaseModel):\n",
    "                print(f\"  {name} is a Pydantic model\")\n",
    "\n",
    "        for name, param in sig.parameters.items():\n",
    "            print(f\"Processing parameter: {name} with type {param.annotation}\")\n",
    "\n",
    "        # 呼叫原始的路由函式，傳入抓到的參數\n",
    "        return func(*args, **kwargs)\n",
    "    return wrapper"
   ]
  },
  {
   "cell_type": "code",
   "execution_count": null,
   "id": "016d881c",
   "metadata": {},
   "outputs": [],
   "source": [
    "class MyData:\n",
    "    def __init__(self, param1: str, param2: int):\n",
    "        self.param1 = param1\n",
    "        self.param2 = param2"
   ]
  },
  {
   "cell_type": "code",
   "execution_count": null,
   "id": "1a7b9d53",
   "metadata": {},
   "outputs": [],
   "source": [
    "class MyData2(BaseModel):\n",
    "    param1: str\n",
    "    param2: int"
   ]
  },
  {
   "cell_type": "code",
   "execution_count": null,
   "id": "e8c1f835",
   "metadata": {},
   "outputs": [],
   "source": [
    "@custom_decorator\n",
    "def my_route_function(data: MyData):\n",
    "    # 這裡是路由函式的實作\n",
    "    return {\"param1\": data.param1, \"param2\": data.param2}"
   ]
  },
  {
   "cell_type": "code",
   "execution_count": null,
   "id": "98e0b3da",
   "metadata": {},
   "outputs": [],
   "source": [
    "my_route_function(MyData(\"test\", 123))"
   ]
  },
  {
   "cell_type": "code",
   "execution_count": null,
   "id": "e52bc1dd",
   "metadata": {},
   "outputs": [],
   "source": [
    "@custom_decorator\n",
    "def my_route_function2(data: MyData2):\n",
    "    # 這裡是路由函式的實作\n",
    "    return {\"param1\": data.param1, \"param2\": data.param2}"
   ]
  },
  {
   "cell_type": "code",
   "execution_count": null,
   "id": "9949a197",
   "metadata": {},
   "outputs": [],
   "source": [
    "my_route_function2(MyData2(param1=\"test\", param2=123))"
   ]
  },
  {
   "cell_type": "markdown",
   "id": "1c740903",
   "metadata": {},
   "source": [
    "# Task with Pydantic Test"
   ]
  },
  {
   "cell_type": "code",
   "execution_count": 1,
   "id": "d1187310",
   "metadata": {},
   "outputs": [
    {
     "name": "stdout",
     "output_type": "stream",
     "text": [
      "Logger 'llmbrick' (ID: llmbrick): Console only mode\n"
     ]
    }
   ],
   "source": [
    "from skalds.model.task import Task\n",
    "from skalds.model.event  import UpdateTaskWorkerEvent\n",
    "from skalds.worker.baseclass import BaseTaskWorker\n",
    "from datetime import datetime\n",
    "from typing import Optional\n",
    "from pydantic import BaseModel, Field"
   ]
  },
  {
   "cell_type": "code",
   "execution_count": 2,
   "id": "a2bf2c74",
   "metadata": {},
   "outputs": [],
   "source": [
    "class MyModel(BaseModel):\n",
    "    id: str\n",
    "    name: str\n",
    "    description: Optional[str] = None\n",
    "    status: int = 0\n",
    "    created_at: int = Field(default_factory=lambda: int(datetime.utcnow().timestamp()*1000))\n",
    "    updated_at: int = Field(default_factory=lambda: int(datetime.utcnow().timestamp()*1000))\n"
   ]
  },
  {
   "cell_type": "code",
   "execution_count": 6,
   "id": "ebe2a23a",
   "metadata": {},
   "outputs": [],
   "source": [
    "my_model = MyModel(\n",
    "    id=\"1\",\n",
    "    name=\"Sample Model\",\n",
    "    description=\"This is a sample model\",\n",
    "    status=0,\n",
    "    created_at=int(datetime.utcnow().timestamp()*1000),\n",
    "    updated_at=int(datetime.utcnow().timestamp()*1000)\n",
    ")\n",
    "\n",
    "MyModel.model_validate(my_model)\n",
    "\n",
    "\n",
    "my_task = Task(\n",
    "    id=\"1\",\n",
    "    class_name=\"Sample Task\",\n",
    "    source=\"User\",\n",
    "    name=\"Sample Task\",\n",
    "    description=\"This is a sample task\",\n",
    "    executor=\"user@example.com\",\n",
    "    create_date_time=int(datetime.utcnow().timestamp()*1000),\n",
    "    update_date_time=int(datetime.utcnow().timestamp()*1000),\n",
    "    priority=5,\n",
    "    attachments=my_model\n",
    ")"
   ]
  },
  {
   "cell_type": "code",
   "execution_count": 4,
   "id": "9f98d8ee",
   "metadata": {},
   "outputs": [
    {
     "data": {
      "text/plain": [
       "{'id': '1',\n",
       " 'class_name': 'Sample Task',\n",
       " 'source': 'User',\n",
       " 'name': 'Sample Task',\n",
       " 'description': 'This is a sample task',\n",
       " 'executor': 'user@example.com',\n",
       " 'dependencies': None,\n",
       " 'mode': 'Passive',\n",
       " 'create_date_time': 1754973691328,\n",
       " 'update_date_time': 1754973691328,\n",
       " 'deadline_date_time': 1755607291328,\n",
       " 'lifecycle_status': 'Created',\n",
       " 'priority': 5,\n",
       " 'attachments': {'id': '1',\n",
       "  'name': 'Sample Model',\n",
       "  'description': 'This is a sample model',\n",
       "  'status': 0,\n",
       "  'created_at': 1754973691328,\n",
       "  'updated_at': 1754973691328}}"
      ]
     },
     "execution_count": 4,
     "metadata": {},
     "output_type": "execute_result"
    }
   ],
   "source": [
    "my_task.model_dump()"
   ]
  },
  {
   "cell_type": "code",
   "execution_count": 5,
   "id": "c3ed8f1d",
   "metadata": {},
   "outputs": [],
   "source": [
    "data = my_task.model_dump()\n",
    "attachments = data.get('attachments', None)\n",
    "attachments = MyModel.model_validate(attachments)\n",
    "data['attachments'] = attachments\n",
    "my_task2 = Task.model_validate(data)"
   ]
  },
  {
   "cell_type": "code",
   "execution_count": null,
   "id": "fa69da44",
   "metadata": {},
   "outputs": [],
   "source": [
    "from skalds.worker.baseclass import update_event_handler\n",
    "class MyWorker(BaseTaskWorker[MyModel]):\n",
    "    def initialize(self, data: MyModel) -> None:\n",
    "        self.data = data\n",
    "\n",
    "    @classmethod\n",
    "    def get_generic(cls) -> BaseModel:\n",
    "        return cls.__orig_bases__[0].__args__[0]\n",
    "    \n",
    "    @update_event_handler\n",
    "    def handle_update(self, data: MyModel) -> None:\n",
    "        self.data = data"
   ]
  },
  {
   "cell_type": "code",
   "execution_count": null,
   "id": "0f6a6274",
   "metadata": {},
   "outputs": [],
   "source": [
    "MyWorker.get_generic()"
   ]
  },
  {
   "cell_type": "code",
   "execution_count": null,
   "id": "6952188d",
   "metadata": {},
   "outputs": [],
   "source": [
    "from inspect import signature\n",
    "sig = signature(MyWorker.initialize)\n",
    "# isinstance(MyWorker.initialize.__annotations__[\"data\"], BaseModel)\n",
    "param_annotations = sig.parameters\n",
    "data_param = param_annotations.get('data').annotation\n",
    "\n",
    "data_param\n"
   ]
  },
  {
   "cell_type": "code",
   "execution_count": null,
   "id": "fc46eebb",
   "metadata": {},
   "outputs": [],
   "source": [
    "data = my_task.model_dump()\n",
    "attachments = data.get('attachments', None)\n",
    "\n",
    "data = MyWorker.get_generic().model_validate(attachments)\n",
    "data"
   ]
  },
  {
   "cell_type": "code",
   "execution_count": null,
   "id": "23683ba9",
   "metadata": {},
   "outputs": [],
   "source": []
  }
 ],
 "metadata": {
  "kernelspec": {
   "display_name": "Python 3",
   "language": "python",
   "name": "python3"
  },
  "language_info": {
   "codemirror_mode": {
    "name": "ipython",
    "version": 3
   },
   "file_extension": ".py",
   "mimetype": "text/x-python",
   "name": "python",
   "nbconvert_exporter": "python",
   "pygments_lexer": "ipython3",
   "version": "3.11.13"
  }
 },
 "nbformat": 4,
 "nbformat_minor": 5
}
