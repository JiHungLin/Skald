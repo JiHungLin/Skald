{
 "cells": [
  {
   "cell_type": "code",
   "execution_count": null,
   "id": "16bb01a1",
   "metadata": {},
   "outputs": [],
   "source": [
    "from functools import wraps\n",
    "from inspect import signature\n",
    "from pydantic import BaseModel, fields\n",
    "\n",
    "def custom_decorator(func):\n",
    "    sig = signature(func)\n",
    "    \n",
    "    @wraps(func)\n",
    "    def wrapper( *args, **kwargs):\n",
    "        # 用函式參數名稱決定要傳入哪些 query 參數\n",
    "        print(\"Query parameters kwargs:\")\n",
    "        for name, value in kwargs.items():\n",
    "            print(f\"  {name}: {value}\")\n",
    "            if isinstance(value, BaseModel):\n",
    "                print(f\"  {name} is a Pydantic model\")\n",
    "        print(\"Query parameters args:\")\n",
    "        for name, value in zip(sig.parameters.keys(), args):\n",
    "            print(f\"  {name}: {value}\")\n",
    "            if isinstance(value, BaseModel):\n",
    "                print(f\"  {name} is a Pydantic model\")\n",
    "\n",
    "        for name, param in sig.parameters.items():\n",
    "            print(f\"Processing parameter: {name} with type {param.annotation}\")\n",
    "\n",
    "        # 呼叫原始的路由函式，傳入抓到的參數\n",
    "        return func(*args, **kwargs)\n",
    "    return wrapper"
   ]
  },
  {
   "cell_type": "code",
   "execution_count": null,
   "id": "016d881c",
   "metadata": {},
   "outputs": [],
   "source": [
    "class MyData:\n",
    "    def __init__(self, param1: str, param2: int):\n",
    "        self.param1 = param1\n",
    "        self.param2 = param2"
   ]
  },
  {
   "cell_type": "code",
   "execution_count": null,
   "id": "1a7b9d53",
   "metadata": {},
   "outputs": [],
   "source": [
    "class MyData2(BaseModel):\n",
    "    param1: str\n",
    "    param2: int"
   ]
  },
  {
   "cell_type": "code",
   "execution_count": null,
   "id": "e8c1f835",
   "metadata": {},
   "outputs": [],
   "source": [
    "@custom_decorator\n",
    "def my_route_function(data: MyData):\n",
    "    # 這裡是路由函式的實作\n",
    "    return {\"param1\": data.param1, \"param2\": data.param2}"
   ]
  },
  {
   "cell_type": "code",
   "execution_count": null,
   "id": "98e0b3da",
   "metadata": {},
   "outputs": [],
   "source": [
    "my_route_function(MyData(\"test\", 123))"
   ]
  },
  {
   "cell_type": "code",
   "execution_count": null,
   "id": "e52bc1dd",
   "metadata": {},
   "outputs": [],
   "source": [
    "@custom_decorator\n",
    "def my_route_function2(data: MyData2):\n",
    "    # 這裡是路由函式的實作\n",
    "    return {\"param1\": data.param1, \"param2\": data.param2}"
   ]
  },
  {
   "cell_type": "code",
   "execution_count": null,
   "id": "9949a197",
   "metadata": {},
   "outputs": [],
   "source": [
    "my_route_function2(MyData2(param1=\"test\", param2=123))"
   ]
  },
  {
   "cell_type": "markdown",
   "id": "1c740903",
   "metadata": {},
   "source": [
    "# Task with Pydantic Test"
   ]
  },
  {
   "cell_type": "code",
   "execution_count": 1,
   "id": "d1187310",
   "metadata": {},
   "outputs": [],
   "source": [
    "from skald.model.task import Task\n",
    "from datetime import datetime\n",
    "from typing import Optional\n",
    "from pydantic import BaseModel, Field"
   ]
  },
  {
   "cell_type": "code",
   "execution_count": 2,
   "id": "a2bf2c74",
   "metadata": {},
   "outputs": [],
   "source": [
    "class MyModel(BaseModel):\n",
    "    id: str\n",
    "    name: str\n",
    "    description: Optional[str] = None\n",
    "    status: int = 0\n",
    "    created_at: datetime = Field(default_factory=datetime.utcnow)\n",
    "    updated_at: datetime = Field(default_factory=datetime.utcnow)\n"
   ]
  },
  {
   "cell_type": "code",
   "execution_count": 5,
   "id": "ebe2a23a",
   "metadata": {},
   "outputs": [],
   "source": [
    "my_model = MyModel(\n",
    "    id=\"1\",\n",
    "    name=\"Sample Model\",\n",
    "    description=\"This is a sample model\",\n",
    "    status=0,\n",
    "    created_at=datetime.utcnow(),\n",
    "    updated_at=datetime.utcnow()\n",
    ")\n",
    "\n",
    "\n",
    "my_task = Task(\n",
    "    id=\"1\",\n",
    "    className=\"Sample Task\",\n",
    "    source=\"User\",\n",
    "    name=\"Sample Task\",\n",
    "    description=\"This is a sample task\",\n",
    "    executor=\"user@example.com\",\n",
    "    createDateTime=datetime.utcnow(),\n",
    "    updateDateTime=datetime.utcnow(),\n",
    "    priority=5,\n",
    "    attachments=my_model\n",
    ")"
   ]
  },
  {
   "cell_type": "code",
   "execution_count": null,
   "id": "460c7aea",
   "metadata": {},
   "outputs": [],
   "source": [
    "print(my_task.model_dump())"
   ]
  },
  {
   "cell_type": "code",
   "execution_count": null,
   "id": "a348611c",
   "metadata": {},
   "outputs": [],
   "source": []
  }
 ],
 "metadata": {
  "kernelspec": {
   "display_name": ".conda",
   "language": "python",
   "name": "python3"
  },
  "language_info": {
   "codemirror_mode": {
    "name": "ipython",
    "version": 3
   },
   "file_extension": ".py",
   "mimetype": "text/x-python",
   "name": "python",
   "nbconvert_exporter": "python",
   "pygments_lexer": "ipython3",
   "version": "3.11.13"
  }
 },
 "nbformat": 4,
 "nbformat_minor": 5
}
