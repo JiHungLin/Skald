{
 "cells": [
  {
   "cell_type": "code",
   "execution_count": 1,
   "id": "46f528b9",
   "metadata": {},
   "outputs": [
    {
     "name": "stderr",
     "output_type": "stream",
     "text": [
      "\u001b[32m2025-08-13 21:09:23\u001b[0m | \u001b[1mINFO    75645\u001b[0m | \u001b[36mlogging.py\u001b[0m:\u001b[36m__init__\u001b[0m:\u001b[36m70\u001b[0m - \u001b[1mKafka connection attempt started in background thread\u001b[0m\n",
      "\u001b[32m2025-08-13 21:09:23\u001b[0m | \u001b[32m\u001b[1mSUCCESS 75645\u001b[0m | \u001b[36mlogging.py\u001b[0m:\u001b[36mconnection_worker\u001b[0m:\u001b[36m92\u001b[0m - \u001b[32m\u001b[1mKafkaConsumer created\u001b[0m\n",
      "\u001b[32m2025-08-13 21:09:23\u001b[0m | \u001b[33m\u001b[1mWARNING 75645\u001b[0m | \u001b[36mlogging.py\u001b[0m:\u001b[36mconnection_worker\u001b[0m:\u001b[36m98\u001b[0m - \u001b[33m\u001b[1mKafkaConsumer topic list is empty\u001b[0m\n",
      "\u001b[32m2025-08-13 21:09:23\u001b[0m | \u001b[1mINFO    75645\u001b[0m | \u001b[36mlogging.py\u001b[0m:\u001b[36mconnection_worker\u001b[0m:\u001b[36m101\u001b[0m - \u001b[1mCreating KafkaProducer - host:192.168.1.110:9092\u001b[0m\n",
      "\u001b[32m2025-08-13 21:09:23\u001b[0m | \u001b[32m\u001b[1mSUCCESS 75645\u001b[0m | \u001b[36mlogging.py\u001b[0m:\u001b[36mconnection_worker\u001b[0m:\u001b[36m124\u001b[0m - \u001b[32m\u001b[1mKafkaProducer created\u001b[0m\n",
      "\u001b[32m2025-08-13 21:09:23\u001b[0m | \u001b[32m\u001b[1mSUCCESS 75645\u001b[0m | \u001b[36mlogging.py\u001b[0m:\u001b[36mconnection_worker\u001b[0m:\u001b[36m129\u001b[0m - \u001b[32m\u001b[1mConnected to Kafka at 192.168.1.110:9092\u001b[0m\n"
     ]
    },
    {
     "name": "stdout",
     "output_type": "stream",
     "text": [
      "Logger 'logging.py' (ID: logging.py): Console only mode\n"
     ]
    }
   ],
   "source": [
    "from skald.proxy.kafka import KafkaConfig, KafkaProxy, KafkaTopic\n",
    "\n",
    "kafka_config = KafkaConfig(\n",
    "    host=\"192.168.1.110\",\n",
    "    port=9092,\n",
    ")\n",
    "\n",
    "kafka_proxy = KafkaProxy(kafka_config)"
   ]
  },
  {
   "cell_type": "code",
   "execution_count": 7,
   "id": "1f331d99",
   "metadata": {},
   "outputs": [
    {
     "name": "stderr",
     "output_type": "stream",
     "text": [
      "\u001b[32m2025-08-13 21:11:37\u001b[0m | \u001b[1mINFO    75645\u001b[0m | \u001b[36mlogging.py\u001b[0m:\u001b[36mproduce\u001b[0m:\u001b[36m168\u001b[0m - \u001b[1mProducing - topic:testing, key:test_key, value:b'test_value'\u001b[0m\n",
      "\u001b[32m2025-08-13 21:11:37\u001b[0m | \u001b[32m\u001b[1mSUCCESS 75645\u001b[0m | \u001b[36mlogging.py\u001b[0m:\u001b[36mproduce\u001b[0m:\u001b[36m180\u001b[0m - \u001b[32m\u001b[1mMessage sent to testing (async)\u001b[0m\n",
      "\u001b[32m2025-08-13 21:11:37\u001b[0m | \u001b[32m\u001b[1mSUCCESS 75645\u001b[0m | \u001b[36mlogging.py\u001b[0m:\u001b[36mon_send_success\u001b[0m:\u001b[36m172\u001b[0m - \u001b[32m\u001b[1mProduced - topic:testing, key:test_key, partition:0, offset:10\u001b[0m\n"
     ]
    }
   ],
   "source": [
    "kafka_proxy.produce(KafkaTopic.TESTING_PRODUCER, key=\"test_key\", value=\"test_value\")"
   ]
  },
  {
   "cell_type": "code",
   "execution_count": null,
   "id": "cfc3e96d",
   "metadata": {},
   "outputs": [],
   "source": []
  }
 ],
 "metadata": {
  "kernelspec": {
   "display_name": "Python 3",
   "language": "python",
   "name": "python3"
  },
  "language_info": {
   "codemirror_mode": {
    "name": "ipython",
    "version": 3
   },
   "file_extension": ".py",
   "mimetype": "text/x-python",
   "name": "python",
   "nbconvert_exporter": "python",
   "pygments_lexer": "ipython3",
   "version": "3.11.13"
  }
 },
 "nbformat": 4,
 "nbformat_minor": 5
}
